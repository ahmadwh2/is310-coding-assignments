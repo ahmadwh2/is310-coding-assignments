{
 "cells": [
  {
   "cell_type": "code",
   "execution_count": null,
   "metadata": {},
   "outputs": [],
   "source": [
    "import pandas as pd\n",
    "import matplotlib.pyplot as plt\n",
    "\n",
    "# Read data from Excel\n",
    "df = pd.read_excel('IS310')\n",
    "\n",
    "# Create a plot\n",
    "plt.plot(df['Income'], df['Percentile'])\n",
    "plt.xlabel('Percentile')\n",
    "plt.ylabel('Income')\n",
    "plt.title('Upper limit of household income by percentile of pop. 2000')\n",
    "plt.show()"
   ]
  },
  {
   "cell_type": "code",
   "execution_count": null,
   "metadata": {},
   "outputs": [],
   "source": []
  }
 ],
 "metadata": {
  "language_info": {
   "name": "python"
  }
 },
 "nbformat": 4,
 "nbformat_minor": 2
}
